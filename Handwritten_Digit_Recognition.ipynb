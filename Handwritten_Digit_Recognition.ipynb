{
 "cells": [
  {
   "cell_type": "markdown",
   "id": "b69039c1-4054-4672-ba1d-cf19305ef59b",
   "metadata": {},
   "source": [
    "# <center> **CNN model for MNIST dataset**\n",
    "\n",
    "**Team Members**\n",
    "- Darun Arumugham (110088300)\n",
    "- Varshitha Seralathan (110087938)\n",
    "   "
   ]
  },
  {
   "cell_type": "markdown",
   "id": "4570f9b7-8558-4f0b-894a-00b6b6b6fbf8",
   "metadata": {},
   "source": [
    "<br> Table of Contents: \n",
    "* [1. Introduction](#1)\n",
    "* [2. Importing Libraries](#2)\n",
    "* [3. Data Preparation](#3)\n",
    "    * [3.1 Loading MNIST dataset](#4)\n",
    "    * [3.2 Exploratory Data Analysis](#5)\n",
    "* [4. Data Preprocessing](#6)\n",
    "    * [4.1 Normalization](#7)\n",
    "    * [4.2 Reshaping](#8)\n",
    "    * [4.3 Encoding](#9)\n",
    "    * [4.3 Spliting dataset](#10)\n",
    "* [5. Convolutional Neural Network](#11)\n",
    "    * [5.1 Building Convolutional Model](#12)\n",
    "    * [5.2 Model Fitting and Training](#13)\n",
    "    * [5.3 Mode Evaluation](#14)\n",
    "* [6. Prediction](#15)\n",
    "    * [6.1 Prediction 1](#16)\n",
    "    * [6.2 Prediction 2](#17)\n",
    "* [7. Conclusion](#18)"
   ]
  },
  {
   "cell_type": "markdown",
   "id": "9413d1ef-3a57-4ed7-9265-67ca2a2bd1fc",
   "metadata": {},
   "source": [
    "<a id=\"1\"></a>\n",
    "## 1. INTRODUCTION\n",
    "\n",
    "MNIST set is a large collection of handwritten digits. It is a very popular dataset in the field of image processing. It is often used for benchmarking machine learning algorithms.\n",
    "\n",
    "MNIST is short for Modified National Institute of Standards and Technology database.\n",
    "\n",
    "MNIST contains a collection of 70,000, 28 x 28 images of handwritten digits from 0 to 9.\n",
    "\n",
    "The dataset is already divided into training and testing sets.\n",
    "\n",
    "\n",
    "![MNIST](https://cainvas-static.s3.amazonaws.com/media/user_data/cainvas-admin/mnist_keras.gif)  \n",
    "\n",
    "\n",
    "\n"
   ]
  },
  {
   "cell_type": "markdown",
   "id": "c3424009-caeb-411d-b560-74cc9e463105",
   "metadata": {},
   "source": [
    "<a id=\"2\"></a>\n",
    "## 2. Importing Libraries \n",
    "\n",
    "Importing necessary libraries for analysing and building CNN architecture\n",
    "\n",
    "Let's load the required libraries. From Keras, we need to import two main components:\n",
    "\n",
    "Sequential from keras.models: Sequential is the keras abstraction for creating models with a stack of layers (MLP has multiple hidden layers, CNNs have convolutional layers, etc.).\n",
    "Various types of layers from keras.layers: These layers are added (one after the other) to the Sequential model"
   ]
  },
  {
   "cell_type": "code",
   "execution_count": 1,
   "id": "2ac7a8f4-1920-4f6f-8d68-5e45cbf2adab",
   "metadata": {},
   "outputs": [],
   "source": [
    "import pandas as pd\n",
    "import numpy as np\n",
    "\n",
    "import matplotlib.pyplot as plt\n",
    "%matplotlib inline\n",
    "import seaborn as sns\n",
    "\n",
    "from sklearn.model_selection import train_test_split\n",
    "from sklearn.metrics import confusion_matrix\n",
    "\n",
    "import keras\n",
    "from keras.utils.np_utils import to_categorical # convert to one-hot-encoding\n",
    "from keras.models import Sequential\n",
    "from keras.layers import Conv2D, Lambda, MaxPooling2D,MaxPool2D# convolution layers\n",
    "from keras.layers import Dense, Dropout, Flatten # core layers\n",
    "from tensorflow.keras.layers import BatchNormalization\n",
    "from keras.optimizers import Adam\n",
    "from keras.preprocessing.image import ImageDataGenerator\n",
    "from keras.callbacks import LearningRateScheduler\n",
    "\n",
    "from keras.utils.np_utils import to_categorical\n"
   ]
  },
  {
   "cell_type": "markdown",
   "id": "203143aa-c083-4bec-b0bd-3119900f5383",
   "metadata": {},
   "source": [
    "<a id=\"3\"></a>\n",
    "## 3. Data Preparation"
   ]
  },
  {
   "cell_type": "markdown",
   "id": "c2a6a158-5fa7-4644-8c97-26c4a9bc7c21",
   "metadata": {
    "tags": []
   },
   "source": [
    "<a id=\"4\"></a>\n",
    "### 3.1 Loading MNIST Dataset\n",
    "\n",
    "The data files *train.csv* and *test.csv* contain gray-scale images of hand-drawn digits, from zero through nine.\n",
    "\n",
    "Each image is *28 pixels* in height and *28 pixels* in width, for a total of 784 pixels in total. \n",
    "Each pixel has a single pixel-value associated with it, indicating the lightness or darkness of that pixel, with higher numbers meaning darker. This pixel-value is an integer between 0 and 255, inclusive."
   ]
  },
  {
   "cell_type": "code",
   "execution_count": 2,
   "id": "c633a89b-54c0-460b-8110-72ff460bc355",
   "metadata": {},
   "outputs": [],
   "source": [
    "#The training data set, (train.csv), has 785 columns. The first column, called \"label\", is the digit that was drawn by the user. The rest of the columns contain the pixel-values of the associated image.\n",
    "train = pd.read_csv(\"train.csv\")\n",
    "# The test data set, (test.csv), is the same as the training set, except that it does not contain the \"label\" column.\n",
    "test = pd.read_csv(\"test.csv\")"
   ]
  },
  {
   "cell_type": "code",
   "execution_count": 3,
   "id": "8d7672b3-9778-4069-9333-d55d8e932bcf",
   "metadata": {},
   "outputs": [
    {
     "data": {
      "text/html": [
       "<div>\n",
       "<style scoped>\n",
       "    .dataframe tbody tr th:only-of-type {\n",
       "        vertical-align: middle;\n",
       "    }\n",
       "\n",
       "    .dataframe tbody tr th {\n",
       "        vertical-align: top;\n",
       "    }\n",
       "\n",
       "    .dataframe thead th {\n",
       "        text-align: right;\n",
       "    }\n",
       "</style>\n",
       "<table border=\"1\" class=\"dataframe\">\n",
       "  <thead>\n",
       "    <tr style=\"text-align: right;\">\n",
       "      <th></th>\n",
       "      <th>label</th>\n",
       "      <th>pixel0</th>\n",
       "      <th>pixel1</th>\n",
       "      <th>pixel2</th>\n",
       "      <th>pixel3</th>\n",
       "      <th>pixel4</th>\n",
       "      <th>pixel5</th>\n",
       "      <th>pixel6</th>\n",
       "      <th>pixel7</th>\n",
       "      <th>pixel8</th>\n",
       "      <th>...</th>\n",
       "      <th>pixel774</th>\n",
       "      <th>pixel775</th>\n",
       "      <th>pixel776</th>\n",
       "      <th>pixel777</th>\n",
       "      <th>pixel778</th>\n",
       "      <th>pixel779</th>\n",
       "      <th>pixel780</th>\n",
       "      <th>pixel781</th>\n",
       "      <th>pixel782</th>\n",
       "      <th>pixel783</th>\n",
       "    </tr>\n",
       "  </thead>\n",
       "  <tbody>\n",
       "    <tr>\n",
       "      <th>0</th>\n",
       "      <td>1</td>\n",
       "      <td>0</td>\n",
       "      <td>0</td>\n",
       "      <td>0</td>\n",
       "      <td>0</td>\n",
       "      <td>0</td>\n",
       "      <td>0</td>\n",
       "      <td>0</td>\n",
       "      <td>0</td>\n",
       "      <td>0</td>\n",
       "      <td>...</td>\n",
       "      <td>0</td>\n",
       "      <td>0</td>\n",
       "      <td>0</td>\n",
       "      <td>0</td>\n",
       "      <td>0</td>\n",
       "      <td>0</td>\n",
       "      <td>0</td>\n",
       "      <td>0</td>\n",
       "      <td>0</td>\n",
       "      <td>0</td>\n",
       "    </tr>\n",
       "    <tr>\n",
       "      <th>1</th>\n",
       "      <td>0</td>\n",
       "      <td>0</td>\n",
       "      <td>0</td>\n",
       "      <td>0</td>\n",
       "      <td>0</td>\n",
       "      <td>0</td>\n",
       "      <td>0</td>\n",
       "      <td>0</td>\n",
       "      <td>0</td>\n",
       "      <td>0</td>\n",
       "      <td>...</td>\n",
       "      <td>0</td>\n",
       "      <td>0</td>\n",
       "      <td>0</td>\n",
       "      <td>0</td>\n",
       "      <td>0</td>\n",
       "      <td>0</td>\n",
       "      <td>0</td>\n",
       "      <td>0</td>\n",
       "      <td>0</td>\n",
       "      <td>0</td>\n",
       "    </tr>\n",
       "    <tr>\n",
       "      <th>2</th>\n",
       "      <td>1</td>\n",
       "      <td>0</td>\n",
       "      <td>0</td>\n",
       "      <td>0</td>\n",
       "      <td>0</td>\n",
       "      <td>0</td>\n",
       "      <td>0</td>\n",
       "      <td>0</td>\n",
       "      <td>0</td>\n",
       "      <td>0</td>\n",
       "      <td>...</td>\n",
       "      <td>0</td>\n",
       "      <td>0</td>\n",
       "      <td>0</td>\n",
       "      <td>0</td>\n",
       "      <td>0</td>\n",
       "      <td>0</td>\n",
       "      <td>0</td>\n",
       "      <td>0</td>\n",
       "      <td>0</td>\n",
       "      <td>0</td>\n",
       "    </tr>\n",
       "    <tr>\n",
       "      <th>3</th>\n",
       "      <td>4</td>\n",
       "      <td>0</td>\n",
       "      <td>0</td>\n",
       "      <td>0</td>\n",
       "      <td>0</td>\n",
       "      <td>0</td>\n",
       "      <td>0</td>\n",
       "      <td>0</td>\n",
       "      <td>0</td>\n",
       "      <td>0</td>\n",
       "      <td>...</td>\n",
       "      <td>0</td>\n",
       "      <td>0</td>\n",
       "      <td>0</td>\n",
       "      <td>0</td>\n",
       "      <td>0</td>\n",
       "      <td>0</td>\n",
       "      <td>0</td>\n",
       "      <td>0</td>\n",
       "      <td>0</td>\n",
       "      <td>0</td>\n",
       "    </tr>\n",
       "    <tr>\n",
       "      <th>4</th>\n",
       "      <td>0</td>\n",
       "      <td>0</td>\n",
       "      <td>0</td>\n",
       "      <td>0</td>\n",
       "      <td>0</td>\n",
       "      <td>0</td>\n",
       "      <td>0</td>\n",
       "      <td>0</td>\n",
       "      <td>0</td>\n",
       "      <td>0</td>\n",
       "      <td>...</td>\n",
       "      <td>0</td>\n",
       "      <td>0</td>\n",
       "      <td>0</td>\n",
       "      <td>0</td>\n",
       "      <td>0</td>\n",
       "      <td>0</td>\n",
       "      <td>0</td>\n",
       "      <td>0</td>\n",
       "      <td>0</td>\n",
       "      <td>0</td>\n",
       "    </tr>\n",
       "  </tbody>\n",
       "</table>\n",
       "<p>5 rows × 785 columns</p>\n",
       "</div>"
      ],
      "text/plain": [
       "   label  pixel0  pixel1  pixel2  pixel3  pixel4  pixel5  pixel6  pixel7  \\\n",
       "0      1       0       0       0       0       0       0       0       0   \n",
       "1      0       0       0       0       0       0       0       0       0   \n",
       "2      1       0       0       0       0       0       0       0       0   \n",
       "3      4       0       0       0       0       0       0       0       0   \n",
       "4      0       0       0       0       0       0       0       0       0   \n",
       "\n",
       "   pixel8  ...  pixel774  pixel775  pixel776  pixel777  pixel778  pixel779  \\\n",
       "0       0  ...         0         0         0         0         0         0   \n",
       "1       0  ...         0         0         0         0         0         0   \n",
       "2       0  ...         0         0         0         0         0         0   \n",
       "3       0  ...         0         0         0         0         0         0   \n",
       "4       0  ...         0         0         0         0         0         0   \n",
       "\n",
       "   pixel780  pixel781  pixel782  pixel783  \n",
       "0         0         0         0         0  \n",
       "1         0         0         0         0  \n",
       "2         0         0         0         0  \n",
       "3         0         0         0         0  \n",
       "4         0         0         0         0  \n",
       "\n",
       "[5 rows x 785 columns]"
      ]
     },
     "execution_count": 3,
     "metadata": {},
     "output_type": "execute_result"
    }
   ],
   "source": [
    "train.head()"
   ]
  },
  {
   "cell_type": "code",
   "execution_count": 4,
   "id": "9a8eb0ba-a494-4ee5-ae64-b1b58072dafd",
   "metadata": {},
   "outputs": [
    {
     "name": "stdout",
     "output_type": "stream",
     "text": [
      "Training data size is (42000, 785)\n",
      "Testing data size is (28000, 784)\n"
     ]
    }
   ],
   "source": [
    "print(f\"Training data size is {train.shape}\\nTesting data size is {test.shape}\")"
   ]
  },
  {
   "cell_type": "markdown",
   "id": "7e1537f0-fe4c-4571-9838-47d2135616ff",
   "metadata": {},
   "source": [
    "Train dataset summary"
   ]
  },
  {
   "cell_type": "code",
   "execution_count": 5,
   "id": "c25cd791-4481-4858-8802-b4ca5f3ca670",
   "metadata": {},
   "outputs": [
    {
     "data": {
      "text/html": [
       "<div>\n",
       "<style scoped>\n",
       "    .dataframe tbody tr th:only-of-type {\n",
       "        vertical-align: middle;\n",
       "    }\n",
       "\n",
       "    .dataframe tbody tr th {\n",
       "        vertical-align: top;\n",
       "    }\n",
       "\n",
       "    .dataframe thead th {\n",
       "        text-align: right;\n",
       "    }\n",
       "</style>\n",
       "<table border=\"1\" class=\"dataframe\">\n",
       "  <thead>\n",
       "    <tr style=\"text-align: right;\">\n",
       "      <th></th>\n",
       "      <th>label</th>\n",
       "      <th>pixel0</th>\n",
       "      <th>pixel1</th>\n",
       "      <th>pixel2</th>\n",
       "      <th>pixel3</th>\n",
       "      <th>pixel4</th>\n",
       "      <th>pixel5</th>\n",
       "      <th>pixel6</th>\n",
       "      <th>pixel7</th>\n",
       "      <th>pixel8</th>\n",
       "      <th>...</th>\n",
       "      <th>pixel774</th>\n",
       "      <th>pixel775</th>\n",
       "      <th>pixel776</th>\n",
       "      <th>pixel777</th>\n",
       "      <th>pixel778</th>\n",
       "      <th>pixel779</th>\n",
       "      <th>pixel780</th>\n",
       "      <th>pixel781</th>\n",
       "      <th>pixel782</th>\n",
       "      <th>pixel783</th>\n",
       "    </tr>\n",
       "  </thead>\n",
       "  <tbody>\n",
       "    <tr>\n",
       "      <th>count</th>\n",
       "      <td>42000.000000</td>\n",
       "      <td>42000.0</td>\n",
       "      <td>42000.0</td>\n",
       "      <td>42000.0</td>\n",
       "      <td>42000.0</td>\n",
       "      <td>42000.0</td>\n",
       "      <td>42000.0</td>\n",
       "      <td>42000.0</td>\n",
       "      <td>42000.0</td>\n",
       "      <td>42000.0</td>\n",
       "      <td>...</td>\n",
       "      <td>42000.000000</td>\n",
       "      <td>42000.000000</td>\n",
       "      <td>42000.000000</td>\n",
       "      <td>42000.00000</td>\n",
       "      <td>42000.000000</td>\n",
       "      <td>42000.000000</td>\n",
       "      <td>42000.0</td>\n",
       "      <td>42000.0</td>\n",
       "      <td>42000.0</td>\n",
       "      <td>42000.0</td>\n",
       "    </tr>\n",
       "    <tr>\n",
       "      <th>mean</th>\n",
       "      <td>4.456643</td>\n",
       "      <td>0.0</td>\n",
       "      <td>0.0</td>\n",
       "      <td>0.0</td>\n",
       "      <td>0.0</td>\n",
       "      <td>0.0</td>\n",
       "      <td>0.0</td>\n",
       "      <td>0.0</td>\n",
       "      <td>0.0</td>\n",
       "      <td>0.0</td>\n",
       "      <td>...</td>\n",
       "      <td>0.219286</td>\n",
       "      <td>0.117095</td>\n",
       "      <td>0.059024</td>\n",
       "      <td>0.02019</td>\n",
       "      <td>0.017238</td>\n",
       "      <td>0.002857</td>\n",
       "      <td>0.0</td>\n",
       "      <td>0.0</td>\n",
       "      <td>0.0</td>\n",
       "      <td>0.0</td>\n",
       "    </tr>\n",
       "    <tr>\n",
       "      <th>std</th>\n",
       "      <td>2.887730</td>\n",
       "      <td>0.0</td>\n",
       "      <td>0.0</td>\n",
       "      <td>0.0</td>\n",
       "      <td>0.0</td>\n",
       "      <td>0.0</td>\n",
       "      <td>0.0</td>\n",
       "      <td>0.0</td>\n",
       "      <td>0.0</td>\n",
       "      <td>0.0</td>\n",
       "      <td>...</td>\n",
       "      <td>6.312890</td>\n",
       "      <td>4.633819</td>\n",
       "      <td>3.274488</td>\n",
       "      <td>1.75987</td>\n",
       "      <td>1.894498</td>\n",
       "      <td>0.414264</td>\n",
       "      <td>0.0</td>\n",
       "      <td>0.0</td>\n",
       "      <td>0.0</td>\n",
       "      <td>0.0</td>\n",
       "    </tr>\n",
       "    <tr>\n",
       "      <th>min</th>\n",
       "      <td>0.000000</td>\n",
       "      <td>0.0</td>\n",
       "      <td>0.0</td>\n",
       "      <td>0.0</td>\n",
       "      <td>0.0</td>\n",
       "      <td>0.0</td>\n",
       "      <td>0.0</td>\n",
       "      <td>0.0</td>\n",
       "      <td>0.0</td>\n",
       "      <td>0.0</td>\n",
       "      <td>...</td>\n",
       "      <td>0.000000</td>\n",
       "      <td>0.000000</td>\n",
       "      <td>0.000000</td>\n",
       "      <td>0.00000</td>\n",
       "      <td>0.000000</td>\n",
       "      <td>0.000000</td>\n",
       "      <td>0.0</td>\n",
       "      <td>0.0</td>\n",
       "      <td>0.0</td>\n",
       "      <td>0.0</td>\n",
       "    </tr>\n",
       "    <tr>\n",
       "      <th>25%</th>\n",
       "      <td>2.000000</td>\n",
       "      <td>0.0</td>\n",
       "      <td>0.0</td>\n",
       "      <td>0.0</td>\n",
       "      <td>0.0</td>\n",
       "      <td>0.0</td>\n",
       "      <td>0.0</td>\n",
       "      <td>0.0</td>\n",
       "      <td>0.0</td>\n",
       "      <td>0.0</td>\n",
       "      <td>...</td>\n",
       "      <td>0.000000</td>\n",
       "      <td>0.000000</td>\n",
       "      <td>0.000000</td>\n",
       "      <td>0.00000</td>\n",
       "      <td>0.000000</td>\n",
       "      <td>0.000000</td>\n",
       "      <td>0.0</td>\n",
       "      <td>0.0</td>\n",
       "      <td>0.0</td>\n",
       "      <td>0.0</td>\n",
       "    </tr>\n",
       "    <tr>\n",
       "      <th>50%</th>\n",
       "      <td>4.000000</td>\n",
       "      <td>0.0</td>\n",
       "      <td>0.0</td>\n",
       "      <td>0.0</td>\n",
       "      <td>0.0</td>\n",
       "      <td>0.0</td>\n",
       "      <td>0.0</td>\n",
       "      <td>0.0</td>\n",
       "      <td>0.0</td>\n",
       "      <td>0.0</td>\n",
       "      <td>...</td>\n",
       "      <td>0.000000</td>\n",
       "      <td>0.000000</td>\n",
       "      <td>0.000000</td>\n",
       "      <td>0.00000</td>\n",
       "      <td>0.000000</td>\n",
       "      <td>0.000000</td>\n",
       "      <td>0.0</td>\n",
       "      <td>0.0</td>\n",
       "      <td>0.0</td>\n",
       "      <td>0.0</td>\n",
       "    </tr>\n",
       "    <tr>\n",
       "      <th>75%</th>\n",
       "      <td>7.000000</td>\n",
       "      <td>0.0</td>\n",
       "      <td>0.0</td>\n",
       "      <td>0.0</td>\n",
       "      <td>0.0</td>\n",
       "      <td>0.0</td>\n",
       "      <td>0.0</td>\n",
       "      <td>0.0</td>\n",
       "      <td>0.0</td>\n",
       "      <td>0.0</td>\n",
       "      <td>...</td>\n",
       "      <td>0.000000</td>\n",
       "      <td>0.000000</td>\n",
       "      <td>0.000000</td>\n",
       "      <td>0.00000</td>\n",
       "      <td>0.000000</td>\n",
       "      <td>0.000000</td>\n",
       "      <td>0.0</td>\n",
       "      <td>0.0</td>\n",
       "      <td>0.0</td>\n",
       "      <td>0.0</td>\n",
       "    </tr>\n",
       "    <tr>\n",
       "      <th>max</th>\n",
       "      <td>9.000000</td>\n",
       "      <td>0.0</td>\n",
       "      <td>0.0</td>\n",
       "      <td>0.0</td>\n",
       "      <td>0.0</td>\n",
       "      <td>0.0</td>\n",
       "      <td>0.0</td>\n",
       "      <td>0.0</td>\n",
       "      <td>0.0</td>\n",
       "      <td>0.0</td>\n",
       "      <td>...</td>\n",
       "      <td>254.000000</td>\n",
       "      <td>254.000000</td>\n",
       "      <td>253.000000</td>\n",
       "      <td>253.00000</td>\n",
       "      <td>254.000000</td>\n",
       "      <td>62.000000</td>\n",
       "      <td>0.0</td>\n",
       "      <td>0.0</td>\n",
       "      <td>0.0</td>\n",
       "      <td>0.0</td>\n",
       "    </tr>\n",
       "  </tbody>\n",
       "</table>\n",
       "<p>8 rows × 785 columns</p>\n",
       "</div>"
      ],
      "text/plain": [
       "              label   pixel0   pixel1   pixel2   pixel3   pixel4   pixel5  \\\n",
       "count  42000.000000  42000.0  42000.0  42000.0  42000.0  42000.0  42000.0   \n",
       "mean       4.456643      0.0      0.0      0.0      0.0      0.0      0.0   \n",
       "std        2.887730      0.0      0.0      0.0      0.0      0.0      0.0   \n",
       "min        0.000000      0.0      0.0      0.0      0.0      0.0      0.0   \n",
       "25%        2.000000      0.0      0.0      0.0      0.0      0.0      0.0   \n",
       "50%        4.000000      0.0      0.0      0.0      0.0      0.0      0.0   \n",
       "75%        7.000000      0.0      0.0      0.0      0.0      0.0      0.0   \n",
       "max        9.000000      0.0      0.0      0.0      0.0      0.0      0.0   \n",
       "\n",
       "        pixel6   pixel7   pixel8  ...      pixel774      pixel775  \\\n",
       "count  42000.0  42000.0  42000.0  ...  42000.000000  42000.000000   \n",
       "mean       0.0      0.0      0.0  ...      0.219286      0.117095   \n",
       "std        0.0      0.0      0.0  ...      6.312890      4.633819   \n",
       "min        0.0      0.0      0.0  ...      0.000000      0.000000   \n",
       "25%        0.0      0.0      0.0  ...      0.000000      0.000000   \n",
       "50%        0.0      0.0      0.0  ...      0.000000      0.000000   \n",
       "75%        0.0      0.0      0.0  ...      0.000000      0.000000   \n",
       "max        0.0      0.0      0.0  ...    254.000000    254.000000   \n",
       "\n",
       "           pixel776     pixel777      pixel778      pixel779  pixel780  \\\n",
       "count  42000.000000  42000.00000  42000.000000  42000.000000   42000.0   \n",
       "mean       0.059024      0.02019      0.017238      0.002857       0.0   \n",
       "std        3.274488      1.75987      1.894498      0.414264       0.0   \n",
       "min        0.000000      0.00000      0.000000      0.000000       0.0   \n",
       "25%        0.000000      0.00000      0.000000      0.000000       0.0   \n",
       "50%        0.000000      0.00000      0.000000      0.000000       0.0   \n",
       "75%        0.000000      0.00000      0.000000      0.000000       0.0   \n",
       "max      253.000000    253.00000    254.000000     62.000000       0.0   \n",
       "\n",
       "       pixel781  pixel782  pixel783  \n",
       "count   42000.0   42000.0   42000.0  \n",
       "mean        0.0       0.0       0.0  \n",
       "std         0.0       0.0       0.0  \n",
       "min         0.0       0.0       0.0  \n",
       "25%         0.0       0.0       0.0  \n",
       "50%         0.0       0.0       0.0  \n",
       "75%         0.0       0.0       0.0  \n",
       "max         0.0       0.0       0.0  \n",
       "\n",
       "[8 rows x 785 columns]"
      ]
     },
     "execution_count": 5,
     "metadata": {},
     "output_type": "execute_result"
    }
   ],
   "source": [
    "train.describe()"
   ]
  },
  {
   "cell_type": "markdown",
   "id": "38f1bc0c-f8db-440b-a3c0-12fdf3b20e84",
   "metadata": {},
   "source": [
    "Test dataset summary"
   ]
  },
  {
   "cell_type": "code",
   "execution_count": 6,
   "id": "5fb175b0-5082-4e7f-a5a1-23d016b44476",
   "metadata": {},
   "outputs": [
    {
     "data": {
      "text/html": [
       "<div>\n",
       "<style scoped>\n",
       "    .dataframe tbody tr th:only-of-type {\n",
       "        vertical-align: middle;\n",
       "    }\n",
       "\n",
       "    .dataframe tbody tr th {\n",
       "        vertical-align: top;\n",
       "    }\n",
       "\n",
       "    .dataframe thead th {\n",
       "        text-align: right;\n",
       "    }\n",
       "</style>\n",
       "<table border=\"1\" class=\"dataframe\">\n",
       "  <thead>\n",
       "    <tr style=\"text-align: right;\">\n",
       "      <th></th>\n",
       "      <th>pixel0</th>\n",
       "      <th>pixel1</th>\n",
       "      <th>pixel2</th>\n",
       "      <th>pixel3</th>\n",
       "      <th>pixel4</th>\n",
       "      <th>pixel5</th>\n",
       "      <th>pixel6</th>\n",
       "      <th>pixel7</th>\n",
       "      <th>pixel8</th>\n",
       "      <th>pixel9</th>\n",
       "      <th>...</th>\n",
       "      <th>pixel774</th>\n",
       "      <th>pixel775</th>\n",
       "      <th>pixel776</th>\n",
       "      <th>pixel777</th>\n",
       "      <th>pixel778</th>\n",
       "      <th>pixel779</th>\n",
       "      <th>pixel780</th>\n",
       "      <th>pixel781</th>\n",
       "      <th>pixel782</th>\n",
       "      <th>pixel783</th>\n",
       "    </tr>\n",
       "  </thead>\n",
       "  <tbody>\n",
       "    <tr>\n",
       "      <th>count</th>\n",
       "      <td>28000.0</td>\n",
       "      <td>28000.0</td>\n",
       "      <td>28000.0</td>\n",
       "      <td>28000.0</td>\n",
       "      <td>28000.0</td>\n",
       "      <td>28000.0</td>\n",
       "      <td>28000.0</td>\n",
       "      <td>28000.0</td>\n",
       "      <td>28000.0</td>\n",
       "      <td>28000.0</td>\n",
       "      <td>...</td>\n",
       "      <td>28000.000000</td>\n",
       "      <td>28000.000000</td>\n",
       "      <td>28000.000000</td>\n",
       "      <td>28000.000000</td>\n",
       "      <td>28000.000000</td>\n",
       "      <td>28000.0</td>\n",
       "      <td>28000.0</td>\n",
       "      <td>28000.0</td>\n",
       "      <td>28000.0</td>\n",
       "      <td>28000.0</td>\n",
       "    </tr>\n",
       "    <tr>\n",
       "      <th>mean</th>\n",
       "      <td>0.0</td>\n",
       "      <td>0.0</td>\n",
       "      <td>0.0</td>\n",
       "      <td>0.0</td>\n",
       "      <td>0.0</td>\n",
       "      <td>0.0</td>\n",
       "      <td>0.0</td>\n",
       "      <td>0.0</td>\n",
       "      <td>0.0</td>\n",
       "      <td>0.0</td>\n",
       "      <td>...</td>\n",
       "      <td>0.164607</td>\n",
       "      <td>0.073214</td>\n",
       "      <td>0.028036</td>\n",
       "      <td>0.011250</td>\n",
       "      <td>0.006536</td>\n",
       "      <td>0.0</td>\n",
       "      <td>0.0</td>\n",
       "      <td>0.0</td>\n",
       "      <td>0.0</td>\n",
       "      <td>0.0</td>\n",
       "    </tr>\n",
       "    <tr>\n",
       "      <th>std</th>\n",
       "      <td>0.0</td>\n",
       "      <td>0.0</td>\n",
       "      <td>0.0</td>\n",
       "      <td>0.0</td>\n",
       "      <td>0.0</td>\n",
       "      <td>0.0</td>\n",
       "      <td>0.0</td>\n",
       "      <td>0.0</td>\n",
       "      <td>0.0</td>\n",
       "      <td>0.0</td>\n",
       "      <td>...</td>\n",
       "      <td>5.473293</td>\n",
       "      <td>3.616811</td>\n",
       "      <td>1.813602</td>\n",
       "      <td>1.205211</td>\n",
       "      <td>0.807475</td>\n",
       "      <td>0.0</td>\n",
       "      <td>0.0</td>\n",
       "      <td>0.0</td>\n",
       "      <td>0.0</td>\n",
       "      <td>0.0</td>\n",
       "    </tr>\n",
       "    <tr>\n",
       "      <th>min</th>\n",
       "      <td>0.0</td>\n",
       "      <td>0.0</td>\n",
       "      <td>0.0</td>\n",
       "      <td>0.0</td>\n",
       "      <td>0.0</td>\n",
       "      <td>0.0</td>\n",
       "      <td>0.0</td>\n",
       "      <td>0.0</td>\n",
       "      <td>0.0</td>\n",
       "      <td>0.0</td>\n",
       "      <td>...</td>\n",
       "      <td>0.000000</td>\n",
       "      <td>0.000000</td>\n",
       "      <td>0.000000</td>\n",
       "      <td>0.000000</td>\n",
       "      <td>0.000000</td>\n",
       "      <td>0.0</td>\n",
       "      <td>0.0</td>\n",
       "      <td>0.0</td>\n",
       "      <td>0.0</td>\n",
       "      <td>0.0</td>\n",
       "    </tr>\n",
       "    <tr>\n",
       "      <th>25%</th>\n",
       "      <td>0.0</td>\n",
       "      <td>0.0</td>\n",
       "      <td>0.0</td>\n",
       "      <td>0.0</td>\n",
       "      <td>0.0</td>\n",
       "      <td>0.0</td>\n",
       "      <td>0.0</td>\n",
       "      <td>0.0</td>\n",
       "      <td>0.0</td>\n",
       "      <td>0.0</td>\n",
       "      <td>...</td>\n",
       "      <td>0.000000</td>\n",
       "      <td>0.000000</td>\n",
       "      <td>0.000000</td>\n",
       "      <td>0.000000</td>\n",
       "      <td>0.000000</td>\n",
       "      <td>0.0</td>\n",
       "      <td>0.0</td>\n",
       "      <td>0.0</td>\n",
       "      <td>0.0</td>\n",
       "      <td>0.0</td>\n",
       "    </tr>\n",
       "    <tr>\n",
       "      <th>50%</th>\n",
       "      <td>0.0</td>\n",
       "      <td>0.0</td>\n",
       "      <td>0.0</td>\n",
       "      <td>0.0</td>\n",
       "      <td>0.0</td>\n",
       "      <td>0.0</td>\n",
       "      <td>0.0</td>\n",
       "      <td>0.0</td>\n",
       "      <td>0.0</td>\n",
       "      <td>0.0</td>\n",
       "      <td>...</td>\n",
       "      <td>0.000000</td>\n",
       "      <td>0.000000</td>\n",
       "      <td>0.000000</td>\n",
       "      <td>0.000000</td>\n",
       "      <td>0.000000</td>\n",
       "      <td>0.0</td>\n",
       "      <td>0.0</td>\n",
       "      <td>0.0</td>\n",
       "      <td>0.0</td>\n",
       "      <td>0.0</td>\n",
       "    </tr>\n",
       "    <tr>\n",
       "      <th>75%</th>\n",
       "      <td>0.0</td>\n",
       "      <td>0.0</td>\n",
       "      <td>0.0</td>\n",
       "      <td>0.0</td>\n",
       "      <td>0.0</td>\n",
       "      <td>0.0</td>\n",
       "      <td>0.0</td>\n",
       "      <td>0.0</td>\n",
       "      <td>0.0</td>\n",
       "      <td>0.0</td>\n",
       "      <td>...</td>\n",
       "      <td>0.000000</td>\n",
       "      <td>0.000000</td>\n",
       "      <td>0.000000</td>\n",
       "      <td>0.000000</td>\n",
       "      <td>0.000000</td>\n",
       "      <td>0.0</td>\n",
       "      <td>0.0</td>\n",
       "      <td>0.0</td>\n",
       "      <td>0.0</td>\n",
       "      <td>0.0</td>\n",
       "    </tr>\n",
       "    <tr>\n",
       "      <th>max</th>\n",
       "      <td>0.0</td>\n",
       "      <td>0.0</td>\n",
       "      <td>0.0</td>\n",
       "      <td>0.0</td>\n",
       "      <td>0.0</td>\n",
       "      <td>0.0</td>\n",
       "      <td>0.0</td>\n",
       "      <td>0.0</td>\n",
       "      <td>0.0</td>\n",
       "      <td>0.0</td>\n",
       "      <td>...</td>\n",
       "      <td>253.000000</td>\n",
       "      <td>254.000000</td>\n",
       "      <td>193.000000</td>\n",
       "      <td>187.000000</td>\n",
       "      <td>119.000000</td>\n",
       "      <td>0.0</td>\n",
       "      <td>0.0</td>\n",
       "      <td>0.0</td>\n",
       "      <td>0.0</td>\n",
       "      <td>0.0</td>\n",
       "    </tr>\n",
       "  </tbody>\n",
       "</table>\n",
       "<p>8 rows × 784 columns</p>\n",
       "</div>"
      ],
      "text/plain": [
       "        pixel0   pixel1   pixel2   pixel3   pixel4   pixel5   pixel6   pixel7  \\\n",
       "count  28000.0  28000.0  28000.0  28000.0  28000.0  28000.0  28000.0  28000.0   \n",
       "mean       0.0      0.0      0.0      0.0      0.0      0.0      0.0      0.0   \n",
       "std        0.0      0.0      0.0      0.0      0.0      0.0      0.0      0.0   \n",
       "min        0.0      0.0      0.0      0.0      0.0      0.0      0.0      0.0   \n",
       "25%        0.0      0.0      0.0      0.0      0.0      0.0      0.0      0.0   \n",
       "50%        0.0      0.0      0.0      0.0      0.0      0.0      0.0      0.0   \n",
       "75%        0.0      0.0      0.0      0.0      0.0      0.0      0.0      0.0   \n",
       "max        0.0      0.0      0.0      0.0      0.0      0.0      0.0      0.0   \n",
       "\n",
       "        pixel8   pixel9  ...      pixel774      pixel775      pixel776  \\\n",
       "count  28000.0  28000.0  ...  28000.000000  28000.000000  28000.000000   \n",
       "mean       0.0      0.0  ...      0.164607      0.073214      0.028036   \n",
       "std        0.0      0.0  ...      5.473293      3.616811      1.813602   \n",
       "min        0.0      0.0  ...      0.000000      0.000000      0.000000   \n",
       "25%        0.0      0.0  ...      0.000000      0.000000      0.000000   \n",
       "50%        0.0      0.0  ...      0.000000      0.000000      0.000000   \n",
       "75%        0.0      0.0  ...      0.000000      0.000000      0.000000   \n",
       "max        0.0      0.0  ...    253.000000    254.000000    193.000000   \n",
       "\n",
       "           pixel777      pixel778  pixel779  pixel780  pixel781  pixel782  \\\n",
       "count  28000.000000  28000.000000   28000.0   28000.0   28000.0   28000.0   \n",
       "mean       0.011250      0.006536       0.0       0.0       0.0       0.0   \n",
       "std        1.205211      0.807475       0.0       0.0       0.0       0.0   \n",
       "min        0.000000      0.000000       0.0       0.0       0.0       0.0   \n",
       "25%        0.000000      0.000000       0.0       0.0       0.0       0.0   \n",
       "50%        0.000000      0.000000       0.0       0.0       0.0       0.0   \n",
       "75%        0.000000      0.000000       0.0       0.0       0.0       0.0   \n",
       "max      187.000000    119.000000       0.0       0.0       0.0       0.0   \n",
       "\n",
       "       pixel783  \n",
       "count   28000.0  \n",
       "mean        0.0  \n",
       "std         0.0  \n",
       "min         0.0  \n",
       "25%         0.0  \n",
       "50%         0.0  \n",
       "75%         0.0  \n",
       "max         0.0  \n",
       "\n",
       "[8 rows x 784 columns]"
      ]
     },
     "execution_count": 6,
     "metadata": {},
     "output_type": "execute_result"
    }
   ],
   "source": [
    "test.describe()"
   ]
  },
  {
   "cell_type": "code",
   "execution_count": 7,
   "id": "6dc5d7e5-c4be-4db3-b7b3-d7482be1a22d",
   "metadata": {},
   "outputs": [
    {
     "data": {
      "text/plain": [
       "False"
      ]
     },
     "execution_count": 7,
     "metadata": {},
     "output_type": "execute_result"
    }
   ],
   "source": [
    "#Data Cleaning\n",
    "train.isna().any().any()\n",
    "test.isna().any().any()"
   ]
  },
  {
   "cell_type": "markdown",
   "id": "07639e75-e0a0-41dd-9ed8-37fc85f30625",
   "metadata": {},
   "source": [
    "NOTE:\n",
    "Data is totally clean in this case (since the final result says False which means it has no missing values)\n",
    "There is no empty field. Data is clean already."
   ]
  },
  {
   "cell_type": "markdown",
   "id": "f0a6a897-6134-48fa-bc9a-d5e1471e62a4",
   "metadata": {},
   "source": [
    "<a id=\"5\"></a>\n",
    "### 3.2 Exploratory Data Analysis"
   ]
  },
  {
   "cell_type": "code",
   "execution_count": 8,
   "id": "a64905ea-6c17-46a3-89c2-3c7b1b611f9f",
   "metadata": {},
   "outputs": [
    {
     "data": {
      "text/plain": [
       "1    4684\n",
       "7    4401\n",
       "3    4351\n",
       "9    4188\n",
       "2    4177\n",
       "6    4137\n",
       "0    4132\n",
       "4    4072\n",
       "8    4063\n",
       "5    3795\n",
       "Name: label, dtype: int64"
      ]
     },
     "execution_count": 8,
     "metadata": {},
     "output_type": "execute_result"
    }
   ],
   "source": [
    "# Distribution of lables count in train dataset\n",
    "train['label'].value_counts()"
   ]
  },
  {
   "cell_type": "code",
   "execution_count": 9,
   "id": "cc2d98bd-a2a1-4dcd-b018-4ce3961fe37a",
   "metadata": {},
   "outputs": [
    {
     "name": "stderr",
     "output_type": "stream",
     "text": [
      "C:\\Python\\Anaconda3\\lib\\site-packages\\seaborn\\_decorators.py:43: FutureWarning: Pass the following variable as a keyword arg: x. From version 0.12, the only valid positional argument will be `data`, and passing other arguments without an explicit keyword will result in an error or misinterpretation.\n",
      "  FutureWarning\n"
     ]
    },
    {
     "data": {
      "image/png": "[encoded data removed]",
      "text/plain": [
       "<Figure size 576x360 with 1 Axes>"
      ]
     },
     "metadata": {
      "needs_background": "light"
     },
     "output_type": "display_data"
    }
   ],
   "source": [
    "#Label count visulaization\n",
    "\n",
    "plt.figure(figsize=(8, 5))\n",
    "sns.countplot(train['label'], palette='Paired_r')\n",
    "plt.title('Label count')\n",
    "plt.show()"
   ]
  },
  {
   "cell_type": "code",
   "execution_count": 10,
   "id": "b70d5cc6-87ac-4ac3-bb4f-f46b8719a451",
   "metadata": {},
   "outputs": [
    {
     "data": {
      "image/png": "[encoded data removed]",
      "text/plain": [
       "<Figure size 1080x504 with 10 Axes>"
      ]
     },
     "metadata": {
      "needs_background": "light"
     },
     "output_type": "display_data"
    }
   ],
   "source": [
    "# Sample images from the training dataset\n",
    "\n",
    "plt.figure(figsize=(15,7))\n",
    "for i, c in enumerate(np.arange(0,10), start=1):\n",
    "    t = train[train['label']==c].values[1]\n",
    "    t = t[1:]\n",
    "    plt.subplot(2,5,i)\n",
    "    plt.title(c)\n",
    "    plt.imshow(t.reshape(28,28), cmap='RdYlGn_r')"
   ]
  },
  {
   "cell_type": "markdown",
   "id": "0742b21e-075b-4bf6-a264-241b6c8ca93b",
   "metadata": {},
   "source": [
    "#### Checking images one by one"
   ]
  },
  {
   "cell_type": "code",
   "execution_count": 11,
   "id": "7b0f6e3c-9d4c-421f-8fce-9f4e87281e87",
   "metadata": {},
   "outputs": [
    {
     "name": "stdout",
     "output_type": "stream",
     "text": [
      "IMAGE LABEL: 4\n"
     ]
    },
    {
     "data": {
      "image/png": "[encoded data removed]",
      "text/plain": [
       "<Figure size 432x288 with 2 Axes>"
      ]
     },
     "metadata": {
      "needs_background": "light"
     },
     "output_type": "display_data"
    }
   ],
   "source": [
    "# Random image\n",
    "digit_array = train.loc[3, \"pixel0\":]\n",
    "arr = np.array(digit_array) \n",
    "\n",
    "#.reshape(a, (28,28))\n",
    "image_array = np.reshape(arr, (28,28))\n",
    "\n",
    "digit_img = plt.imshow(image_array, cmap=plt.cm.RdYlGn_r)\n",
    "plt.colorbar(digit_img)\n",
    "print(\"IMAGE LABEL: {}\".format(train.loc[3, \"label\"]))"
   ]
  },
  {
   "cell_type": "code",
   "execution_count": 12,
   "id": "22643206-6812-477c-89c6-b2f8563f8bde",
   "metadata": {},
   "outputs": [
    {
     "data": {
      "image/png": "[encoded data removed]",
      "text/plain": [
       "<Figure size 576x576 with 9 Axes>"
      ]
     },
     "metadata": {
      "needs_background": "light"
     },
     "output_type": "display_data"
    }
   ],
   "source": [
    "# first few train images with labels\n",
    "fig, ax = plt.subplots(figsize=(8, 8))\n",
    "for ind, row in train.iloc[:9, :].iterrows():\n",
    "    plt.subplot(3, 3, ind+1)\n",
    "    plt.title(row[0])\n",
    "    img = row.to_numpy()[1:].reshape(28, 28)\n",
    "    fig.suptitle('Train images', fontsize=15)\n",
    "    plt.axis('on')\n",
    "    plt.imshow(img, cmap='RdYlGn_r')"
   ]
  },
  {
   "cell_type": "code",
   "execution_count": 13,
   "id": "871d33f2-3fb6-442e-aeea-1a9f9c3677ba",
   "metadata": {},
   "outputs": [
    {
     "data": {
      "image/png": "[encoded data removed]",
      "text/plain": [
       "<Figure size 576x576 with 9 Axes>"
      ]
     },
     "metadata": {
      "needs_background": "light"
     },
     "output_type": "display_data"
    }
   ],
   "source": [
    "# first few test images\n",
    "fig, ax = plt.subplots(figsize=(8, 8))\n",
    "for ind, row in test.iloc[:9, :].iterrows():\n",
    "    plt.subplot(3, 3, ind+1)\n",
    "    img = row.to_numpy()[:].reshape(28, 28)\n",
    "    fig.suptitle('Test images', fontsize=15)\n",
    "    plt.axis('on')\n",
    "    plt.imshow(img, cmap='RdYlGn_r')"
   ]
  },
  {
   "cell_type": "code",
   "execution_count": null,
   "id": "04d1fbc1-0fce-4b5f-bf2b-38c40c0ba422",
   "metadata": {},
   "outputs": [],
   "source": []
  },
  {
   "cell_type": "code",
   "execution_count": 14,
   "id": "d4aab101-b84f-46eb-b845-c86fc23f912f",
   "metadata": {},
   "outputs": [
    {
     "name": "stdout",
     "output_type": "stream",
     "text": [
      "(42000, 784)\n",
      "(42000,)\n",
      "(28000, 784)\n"
     ]
    }
   ],
   "source": [
    "# split into image and labels and convert to numpy array\n",
    "X = train.iloc[:, 1:].to_numpy()\n",
    "y = train['label'].to_numpy()\n",
    "\n",
    "# test dataset\n",
    "test = test.loc[:, :].to_numpy()\n",
    "\n",
    "for i in [X, y, test]:\n",
    "    print(i.shape)"
   ]
  },
  {
   "cell_type": "code",
   "execution_count": null,
   "id": "5188b0b4-02d2-4554-843b-3497215355a7",
   "metadata": {},
   "outputs": [],
   "source": []
  },
  {
   "cell_type": "markdown",
   "id": "53fe337e-d2d4-49f5-a214-fed26ceb03bc",
   "metadata": {},
   "source": [
    "<a id=\"6\"></a>\n",
    "## 4. Data Preprocessing"
   ]
  },
  {
   "cell_type": "markdown",
   "id": "0e9a6bfc-bac8-4641-8adf-4bc81b818de2",
   "metadata": {},
   "source": [
    "<a id=\"7\"></a>\n",
    "### 4.1 Normalization\n",
    "\n",
    "To reduce the effects of illumination differences, we perform a grayscale normalization. Normalization increases the efficiency of the model."
   ]
  },
  {
   "cell_type": "code",
   "execution_count": 15,
   "id": "b0ba0774-64d6-4563-b532-14ecc06a97ce",
   "metadata": {},
   "outputs": [],
   "source": [
    "X = X / 255.0\n",
    "test = test / 255.0"
   ]
  },
  {
   "cell_type": "markdown",
   "id": "b85da263-ea71-40d1-8c9e-2eaae663e978",
   "metadata": {},
   "source": [
    "<a id=\"8\"></a>\n",
    "### 4.2 Reshape\n",
    "\n",
    "Train and test images (28 x 28)\n",
    "We reshape all data to 28x28x1 3D matrices.\n",
    "Keras needs an extra dimension in the end which correspond to channels. Our images are gray scaled so it use only one channel."
   ]
  },
  {
   "cell_type": "code",
   "execution_count": 16,
   "id": "c8b7454b-0259-4b77-86e1-e25773200bcc",
   "metadata": {},
   "outputs": [
    {
     "name": "stdout",
     "output_type": "stream",
     "text": [
      "(42000, 784)\n",
      "(28000, 784)\n",
      "(42000, 28, 28, 1)\n",
      "(28000, 28, 28, 1)\n"
     ]
    }
   ],
   "source": [
    "# reshape dataset\n",
    "\n",
    "# shape of training and test dataset\n",
    "print(X.shape)\n",
    "print(test.shape)\n",
    "\n",
    "# reshape the dataframe to 3x3 matrix with 1 channel grey scale values\n",
    "X = X.reshape(-1,28,28,1)\n",
    "test = test.reshape(-1,28,28,1)\n",
    "\n",
    "# shape of training and test dataset\n",
    "print(X.shape)\n",
    "print(test.shape)"
   ]
  },
  {
   "cell_type": "markdown",
   "id": "533ccf28",
   "metadata": {},
   "source": [
    "<a id=\"9\"></a>\n",
    "### 4.3 Encoding \n",
    "\n",
    "A “one-hot encoded” vector is the best method to address this problem when making predictions about categorical data \n",
    "\n",
    "Labels are 10 digits numbers from 0 to 9. We need to encode these lables to one hot vectors (ex : 2 -> [0,0,1,0,0,0,0,0,0,0])."
   ]
  },
  {
   "cell_type": "code",
   "execution_count": 17,
   "id": "dd60f51f-b130-4dec-aebc-7db0305b1a18",
   "metadata": {},
   "outputs": [
    {
     "name": "stdout",
     "output_type": "stream",
     "text": [
      "(42000,)\n",
      "1\n",
      "(42000, 10)\n",
      "[0. 1. 0. 0. 0. 0. 0. 0. 0. 0.]\n"
     ]
    }
   ],
   "source": [
    "print(y.shape)\n",
    "print(y[0])\n",
    "\n",
    "# Converting to categorical by one-hot-encoding\n",
    "y_enc = to_categorical(y, num_classes = 10)\n",
    "\n",
    "print(y_enc.shape)\n",
    "print(y_enc[0])"
   ]
  },
  {
   "cell_type": "markdown",
   "id": "d7dbb46f",
   "metadata": {},
   "source": [
    "<a id=\"10\"></a>\n",
    "### 4.4 Spliting the dataset\n",
    "\n",
    "We chose to split the train set in two parts : a small fraction (30%) became the validation set which the model is evaluated and the rest (70%) is used to train the model.\n",
    "\n",
    "Since we have 42 000 training images of balanced labels (see 2.1 Load data), a random split of the train set doesn't cause some labels to be over represented in the validation set."
   ]
  },
  {
   "cell_type": "code",
   "execution_count": 18,
   "id": "f9119426-4a81-4d72-8e1d-6b29b5482e52",
   "metadata": {},
   "outputs": [
    {
     "name": "stdout",
     "output_type": "stream",
     "text": [
      "x_train shape:  (29400, 28, 28, 1)\n",
      "x_test shape:  (12600, 28, 28, 1)\n",
      "y_train shape:  (29400, 10)\n",
      "y_test shape:  (12600, 10)\n"
     ]
    }
   ],
   "source": [
    "random_seed = 2\n",
    "\n",
    "#Split the train and the validation set for the fitting\n",
    "X_train, X_val, y_train_enc, y_val_enc = train_test_split(X, y_enc, test_size=0.3)\n",
    "\n",
    "print(\"x_train shape: \",X_train.shape)\n",
    "print(\"x_test shape: \",X_val.shape)\n",
    "print(\"y_train shape: \",y_train_enc.shape)\n",
    "print(\"y_test shape: \",y_val_enc.shape)"
   ]
  },
  {
   "cell_type": "code",
   "execution_count": null,
   "id": "d5364a22-1570-4bdb-867f-ba49b0008fc5",
   "metadata": {},
   "outputs": [],
   "source": []
  },
  {
   "cell_type": "code",
   "execution_count": 19,
   "id": "e8df5cee-fa50-4370-8990-7f082943c0a3",
   "metadata": {},
   "outputs": [
    {
     "name": "stderr",
     "output_type": "stream",
     "text": [
      "No artists with labels found to put in legend.  Note that artists whose label start with an underscore are ignored when legend() is called with no argument.\n"
     ]
    },
    {
     "data": {
      "image/png": "[encoded data removed]",
      "text/plain": [
       "<Figure size 432x288 with 1 Axes>"
      ]
     },
     "metadata": {
      "needs_background": "light"
     },
     "output_type": "display_data"
    }
   ],
   "source": [
    "#Visualization of data\n",
    "#Lets take one exammple\n",
    "i = 20;\n",
    "temp = X_train\n",
    "plt.imshow(temp[i,:,:],cmap='RdYlGn_r')\n",
    "plt.legend()\n",
    "plt.show()"
   ]
  },
  {
   "cell_type": "code",
   "execution_count": 20,
   "id": "20e7d5c2-2e92-40d7-ad08-15537f0952d7",
   "metadata": {},
   "outputs": [
    {
     "data": {
      "image/png": "[encoded data removed]",
      "text/plain": [
       "<Figure size 720x720 with 1 Axes>"
      ]
     },
     "metadata": {
      "needs_background": "light"
     },
     "output_type": "display_data"
    }
   ],
   "source": [
    "def visualize_input(img, ax):\n",
    "    ax.imshow(img, cmap='gray')\n",
    "    width, height = img.shape\n",
    "    thresh = img.max()/2.5\n",
    "    for x in range(width):\n",
    "        for y in range(height):\n",
    "            ax.annotate(str(round(img[x][y],2)), xy=(y,x),\n",
    "                        horizontalalignment='center',\n",
    "                        verticalalignment='center',\n",
    "                        color='white' if img[x][y]<thresh else 'black')\n",
    "\n",
    "fig = plt.figure(figsize = (10,10)) \n",
    "ax = fig.add_subplot(111)\n",
    "visualize_input(X_train[20].reshape(28,28), ax)"
   ]
  },
  {
   "cell_type": "code",
   "execution_count": null,
   "id": "56fd306b-a432-468f-9ea2-43d94a66bacd",
   "metadata": {},
   "outputs": [],
   "source": []
  },
  {
   "cell_type": "markdown",
   "id": "d7848f32-c8ff-40c3-a9a0-7f97e72aef84",
   "metadata": {},
   "source": [
    "<a id=\"11\"></a>\n",
    "## 5. Convolutional Neural Network\n",
    "\n",
    "![CNN](https://miro.medium.com/max/828/1*uAeANQIOQPqWZnnuH-VEyw.jpeg)"
   ]
  },
  {
   "cell_type": "markdown",
   "id": "8e64fd24-4873-4492-8282-32a345ec279b",
   "metadata": {},
   "source": [
    "<a id=\"12\"></a>\n",
    "### 5.1 Building Convolutional Model"
   ]
  },
  {
   "cell_type": "markdown",
   "id": "7c3b763b-da63-4236-9b34-c03c084a652d",
   "metadata": {},
   "source": [
    "\n",
    "- The first is the convolutional (Conv2D) layer which is used to set learnable filters. In the first convolutional layer, 32 filters are used, while in the second convolutional layer, 64 filters are used. With each filter, a portion of the image (defined by the kernel size) is transformed. In kernel filtering, the kernel matrix is applied throughout the image. Essentially, filters transform images.\n",
    "\n",
    "- Secondly, CNN must have a layer for pooling (MaxPool2D). It is simply a downsampling filter. Taking into account the two neighbouring pixels, it chooses the maximum value. The purpose of these is to reduce the computational cost, and to some extent also to reduce overfitting.\n",
    "\n",
    "As a result of combining convolutional and pooling layers, CNN are able to generate a variety of local features.\n",
    "\n",
    "- The dropout method is a regularization method in which a proportion of nodes are ignored randomly for each training sample. As a result of this technique, the network learns features in a distributed manner, reducing overfitting.\n",
    "\n",
    "- 'relu' is the activation function of the rectifier (max(0,x)). A rectifier activation function adds nonlinearity to a network. Through batch normalization, the hidden unit values are shifted around less.\n",
    "\n",
    "- A flatten layer is used to convert the final feature maps into a single 1D vector. It combines all the found local features of the previous convolutional layers.\n",
    "\n"
   ]
  },
  {
   "cell_type": "code",
   "execution_count": 21,
   "id": "2585b63a-c0a4-47c4-8d17-eb573c7531e5",
   "metadata": {},
   "outputs": [],
   "source": [
    "INPUT_SHAPE = (28,28,1)\n",
    "OUTPUT_SHAPE = 10\n",
    "BATCH_SIZE = 128\n",
    "EPOCHS = 20 # for better result increase the epochs\n",
    "VERBOSE = 2"
   ]
  },
  {
   "cell_type": "code",
   "execution_count": 22,
   "id": "9e3e237a-db38-47d9-a478-3267987556a6",
   "metadata": {},
   "outputs": [],
   "source": [
    "model = Sequential()\n",
    "\n",
    "model.add(Conv2D(32, kernel_size=(3,3), activation='relu', input_shape=INPUT_SHAPE))\n",
    "model.add(MaxPool2D((2,2)))\n",
    "\n",
    "model.add(Conv2D(64, kernel_size=(3,3), activation='relu'))\n",
    "model.add(MaxPool2D((2,2)))\n",
    "\n",
    "model.add(Flatten())\n",
    "\n",
    "model.add(Dense(128, activation='relu'))\n",
    "model.add(Dropout(0.2))\n",
    "\n",
    "model.add(Dense(64, activation='relu'))\n",
    "model.add(Dropout(0.2))\n",
    "\n",
    "model.add(Dense(10, activation='softmax'))"
   ]
  },
  {
   "cell_type": "code",
   "execution_count": 23,
   "id": "55ab6fca-8a0d-4041-ab74-9413b674c0ba",
   "metadata": {},
   "outputs": [],
   "source": [
    "model.compile(optimizer='adam', \n",
    "              loss='categorical_crossentropy', \n",
    "              metrics=['accuracy'])"
   ]
  },
  {
   "cell_type": "code",
   "execution_count": 24,
   "id": "f515c13d-e9cc-420d-948f-d99f936060c9",
   "metadata": {},
   "outputs": [
    {
     "name": "stdout",
     "output_type": "stream",
     "text": [
      "Model: \"sequential\"\n",
      "_________________________________________________________________\n",
      " Layer (type)                Output Shape              Param #   \n",
      "=================================================================\n",
      " conv2d (Conv2D)             (None, 26, 26, 32)        320       \n",
      "                                                                 \n",
      " max_pooling2d (MaxPooling2D  (None, 13, 13, 32)       0         \n",
      " )                                                               \n",
      "                                                                 \n",
      " conv2d_1 (Conv2D)           (None, 11, 11, 64)        18496     \n",
      "                                                                 \n",
      " max_pooling2d_1 (MaxPooling  (None, 5, 5, 64)         0         \n",
      " 2D)                                                             \n",
      "                                                                 \n",
      " flatten (Flatten)           (None, 1600)              0         \n",
      "                                                                 \n",
      " dense (Dense)               (None, 128)               204928    \n",
      "                                                                 \n",
      " dropout (Dropout)           (None, 128)               0         \n",
      "                                                                 \n",
      " dense_1 (Dense)             (None, 64)                8256      \n",
      "                                                                 \n",
      " dropout_1 (Dropout)         (None, 64)                0         \n",
      "                                                                 \n",
      " dense_2 (Dense)             (None, 10)                650       \n",
      "                                                                 \n",
      "=================================================================\n",
      "Total params: 232,650\n",
      "Trainable params: 232,650\n",
      "Non-trainable params: 0\n",
      "_________________________________________________________________\n"
     ]
    }
   ],
   "source": [
    "model.summary()"
   ]
  },
  {
   "cell_type": "markdown",
   "id": "1c026919-88ab-4604-85b7-b6bc4298f64c",
   "metadata": {},
   "source": [
    "<a id=\"13\"></a>\n",
    "### 5.2 Model Fitting and Training"
   ]
  },
  {
   "cell_type": "code",
   "execution_count": 25,
   "id": "db63ef11-820d-4992-861f-c4487eb0b491",
   "metadata": {},
   "outputs": [
    {
     "name": "stdout",
     "output_type": "stream",
     "text": [
      "Epoch 1/20\n",
      "161/161 - 13s - loss: 0.6142 - accuracy: 0.8048 - val_loss: 0.1342 - val_accuracy: 0.9585 - 13s/epoch - 81ms/step\n",
      "Epoch 2/20\n",
      "161/161 - 10s - loss: 0.1541 - accuracy: 0.9544 - val_loss: 0.0952 - val_accuracy: 0.9719 - 10s/epoch - 65ms/step\n",
      "Epoch 3/20\n",
      "161/161 - 10s - loss: 0.1081 - accuracy: 0.9674 - val_loss: 0.0818 - val_accuracy: 0.9753 - 10s/epoch - 65ms/step\n",
      "Epoch 4/20\n",
      "161/161 - 12s - loss: 0.0817 - accuracy: 0.9751 - val_loss: 0.0707 - val_accuracy: 0.9786 - 12s/epoch - 76ms/step\n",
      "Epoch 5/20\n",
      "161/161 - 13s - loss: 0.0683 - accuracy: 0.9793 - val_loss: 0.0673 - val_accuracy: 0.9790 - 13s/epoch - 82ms/step\n",
      "Epoch 6/20\n",
      "161/161 - 12s - loss: 0.0543 - accuracy: 0.9830 - val_loss: 0.0605 - val_accuracy: 0.9821 - 12s/epoch - 73ms/step\n",
      "Epoch 7/20\n",
      "161/161 - 12s - loss: 0.0455 - accuracy: 0.9861 - val_loss: 0.0545 - val_accuracy: 0.9837 - 12s/epoch - 73ms/step\n",
      "Epoch 8/20\n",
      "161/161 - 12s - loss: 0.0391 - accuracy: 0.9874 - val_loss: 0.0603 - val_accuracy: 0.9830 - 12s/epoch - 73ms/step\n",
      "Epoch 9/20\n",
      "161/161 - 13s - loss: 0.0368 - accuracy: 0.9880 - val_loss: 0.0568 - val_accuracy: 0.9842 - 13s/epoch - 79ms/step\n",
      "Epoch 10/20\n",
      "161/161 - 13s - loss: 0.0280 - accuracy: 0.9916 - val_loss: 0.0566 - val_accuracy: 0.9842 - 13s/epoch - 78ms/step\n",
      "Epoch 11/20\n",
      "161/161 - 12s - loss: 0.0256 - accuracy: 0.9913 - val_loss: 0.0492 - val_accuracy: 0.9858 - 12s/epoch - 76ms/step\n",
      "Epoch 12/20\n",
      "161/161 - 13s - loss: 0.0266 - accuracy: 0.9916 - val_loss: 0.0615 - val_accuracy: 0.9832 - 13s/epoch - 78ms/step\n",
      "Epoch 13/20\n",
      "161/161 - 13s - loss: 0.0243 - accuracy: 0.9919 - val_loss: 0.0512 - val_accuracy: 0.9866 - 13s/epoch - 81ms/step\n",
      "Epoch 14/20\n",
      "161/161 - 12s - loss: 0.0198 - accuracy: 0.9936 - val_loss: 0.0465 - val_accuracy: 0.9874 - 12s/epoch - 74ms/step\n",
      "Epoch 15/20\n",
      "161/161 - 11s - loss: 0.0160 - accuracy: 0.9943 - val_loss: 0.0615 - val_accuracy: 0.9853 - 11s/epoch - 69ms/step\n",
      "Epoch 16/20\n",
      "161/161 - 11s - loss: 0.0177 - accuracy: 0.9940 - val_loss: 0.0547 - val_accuracy: 0.9861 - 11s/epoch - 71ms/step\n",
      "Epoch 17/20\n",
      "161/161 - 11s - loss: 0.0175 - accuracy: 0.9946 - val_loss: 0.0573 - val_accuracy: 0.9864 - 11s/epoch - 67ms/step\n",
      "Epoch 18/20\n",
      "161/161 - 10s - loss: 0.0127 - accuracy: 0.9959 - val_loss: 0.0650 - val_accuracy: 0.9865 - 10s/epoch - 64ms/step\n",
      "Epoch 19/20\n",
      "161/161 - 10s - loss: 0.0145 - accuracy: 0.9948 - val_loss: 0.0624 - val_accuracy: 0.9861 - 10s/epoch - 65ms/step\n",
      "Epoch 20/20\n",
      "161/161 - 10s - loss: 0.0125 - accuracy: 0.9961 - val_loss: 0.0668 - val_accuracy: 0.9841 - 10s/epoch - 64ms/step\n"
     ]
    }
   ],
   "source": [
    "history = model.fit(X_train, y_train_enc,\n",
    "                    epochs=EPOCHS,\n",
    "                    batch_size=BATCH_SIZE,\n",
    "                    verbose=VERBOSE,\n",
    "                    validation_split=0.3)"
   ]
  },
  {
   "cell_type": "markdown",
   "id": "fa03d6ae-7aab-4ac9-a2ae-00a3718386ed",
   "metadata": {},
   "source": [
    "<a id=\"14\"></a>\n",
    "### 5.3 Model Evaluation\n",
    "After the model architecture is defined and compiled, the model needs to be trained with training data to be able to recognize the handwritten digits. Hence we will fit the model with X_train and y_train."
   ]
  },
  {
   "cell_type": "code",
   "execution_count": 26,
   "id": "2c4e2038-498f-4c56-97b2-5b1f3323bc01",
   "metadata": {},
   "outputs": [
    {
     "data": {
      "image/png": "[encoded data removed]",
      "text/plain": [
       "<Figure size 1008x360 with 2 Axes>"
      ]
     },
     "metadata": {
      "needs_background": "light"
     },
     "output_type": "display_data"
    }
   ],
   "source": [
    "# Ploting the loss and accuracy curves for training and validation \n",
    "plt.figure(figsize=(14, 5))\n",
    "\n",
    "plt.subplot(1, 2, 1)\n",
    "plt.plot(history.history['accuracy'],color='g', label='Training Accuracy')\n",
    "plt.plot(history.history['val_accuracy'],color='r', label='Validation Accuracy')\n",
    "plt.legend(loc='lower right')\n",
    "plt.title('Training and Validation Accuracy')\n",
    "\n",
    "plt.subplot(1, 2, 2)\n",
    "plt.plot(history.history['loss'],color='g', label='Training Loss')\n",
    "plt.plot(history.history['val_loss'],color='r', label='Validation Loss')\n",
    "plt.legend(loc='upper right')\n",
    "plt.title('Training and Validation Loss')\n",
    "\n",
    "plt.savefig('./foo.png')\n",
    "plt.show()"
   ]
  },
  {
   "cell_type": "code",
   "execution_count": 27,
   "id": "39657cfb-3dc5-4cff-8219-9da0b0db2b46",
   "metadata": {},
   "outputs": [],
   "source": [
    "# model loss and accuracy on validation set\n",
    "Loss,accuracy=model.evaluate(X_train, y_train_enc, verbose=False)"
   ]
  },
  {
   "cell_type": "code",
   "execution_count": 28,
   "id": "beeb5600-de7a-4e99-a95c-e2bc973ef516",
   "metadata": {},
   "outputs": [
    {
     "name": "stdout",
     "output_type": "stream",
     "text": [
      "Accuray of the model:  0.9940476417541504\n"
     ]
    }
   ],
   "source": [
    "print(\"Accuray of the model: \", (accuracy));"
   ]
  },
  {
   "cell_type": "markdown",
   "id": "2fd3604a-f1a0-4736-88ef-1919c6ccf1e7",
   "metadata": {},
   "source": [
    "### Accuray of the model : 0.996"
   ]
  },
  {
   "cell_type": "code",
   "execution_count": 29,
   "id": "53cb3901-0be8-4a98-8f55-34ae88572cb3",
   "metadata": {},
   "outputs": [
    {
     "name": "stdout",
     "output_type": "stream",
     "text": [
      "394/394 [==============================] - 4s 9ms/step\n",
      "[3.5583282e-15 1.5368887e-11 1.0000000e+00 1.6964040e-12 1.0868186e-17\n",
      " 1.1660790e-18 2.1045094e-17 5.1864509e-11 8.4591292e-15 5.1282481e-18]\n",
      "2\n"
     ]
    }
   ],
   "source": [
    "# predicted values\n",
    "y_pred_enc = model.predict(X_val)\n",
    "\n",
    "# actual\n",
    "y_act = [np.argmax(i) for i in y_val_enc]\n",
    "\n",
    "# decoding predicted values\n",
    "y_pred = [np.argmax(i) for i in y_pred_enc]\n",
    "\n",
    "print(y_pred_enc[0])\n",
    "print(y_pred[0])"
   ]
  },
  {
   "cell_type": "markdown",
   "id": "5ae4ec2d-8f5a-41b1-9a1b-8275960b3e7d",
   "metadata": {},
   "source": [
    "### Classification Report"
   ]
  },
  {
   "cell_type": "code",
   "execution_count": 30,
   "id": "42240a75-c17a-4892-826b-4c3d8db781b1",
   "metadata": {},
   "outputs": [
    {
     "name": "stdout",
     "output_type": "stream",
     "text": [
      "              precision    recall  f1-score   support\n",
      "\n",
      "     Class 0       0.99      1.00      0.99      1218\n",
      "     Class 1       0.99      1.00      0.99      1397\n",
      "     Class 2       0.99      0.98      0.99      1287\n",
      "     Class 3       0.99      0.98      0.99      1314\n",
      "     Class 4       0.98      0.99      0.98      1256\n",
      "     Class 5       0.98      0.99      0.98      1202\n",
      "     Class 6       0.99      0.99      0.99      1214\n",
      "     Class 7       0.98      0.99      0.98      1326\n",
      "     Class 8       0.99      0.98      0.99      1182\n",
      "     Class 9       0.99      0.97      0.98      1204\n",
      "\n",
      "    accuracy                           0.99     12600\n",
      "   macro avg       0.99      0.99      0.99     12600\n",
      "weighted avg       0.99      0.99      0.99     12600\n",
      "\n"
     ]
    }
   ],
   "source": [
    "from sklearn.metrics import classification_report\n",
    "target_names = [\"Class {}\".format(i) for i in range(OUTPUT_SHAPE)]\n",
    "print(classification_report(y_act, y_pred, target_names=target_names))\n"
   ]
  },
  {
   "cell_type": "markdown",
   "id": "271ec89d-418d-4684-ab0c-07a36a70e8a1",
   "metadata": {},
   "source": [
    "### Confusion Matrix"
   ]
  },
  {
   "cell_type": "code",
   "execution_count": 31,
   "id": "8cdc3654-e1fc-4780-bcfe-b3bb820f10b6",
   "metadata": {},
   "outputs": [
    {
     "data": {
      "image/png": "[encoded data removed]",
      "text/plain": [
       "<Figure size 720x504 with 2 Axes>"
      ]
     },
     "metadata": {
      "needs_background": "light"
     },
     "output_type": "display_data"
    }
   ],
   "source": [
    "fig, ax = plt.subplots(figsize=(10, 7))\n",
    "sns.heatmap(confusion_matrix(y_act, y_pred), annot=True, \n",
    "             fmt='1d', cmap='Greens',linecolor=\"gray\", ax=ax)\n",
    "ax.set_title('Confusion Matrix', fontsize=16)\n",
    "plt.tight_layout()\n",
    "ax.set_xlabel('Predicted Value')\n",
    "ax.set_ylabel('True Value')\n",
    "plt.show()"
   ]
  },
  {
   "cell_type": "code",
   "execution_count": null,
   "id": "00f643dc-6abc-4e26-bf42-f1f51400ac92",
   "metadata": {},
   "outputs": [],
   "source": []
  },
  {
   "cell_type": "markdown",
   "id": "9d1d8679-94cb-4950-9fe5-45bb42d3a38b",
   "metadata": {},
   "source": [
    "<a id=\"15\"></a>\n",
    "### 6. Prediction\n",
    "\n",
    "Once the model is built and trained using the training data, that model is evaluated. Once the accuracy is as expected, the model is tested with the test dataset and the prediction is made."
   ]
  },
  {
   "cell_type": "markdown",
   "id": "0d1b3cb6-f932-42e0-8da0-9c6b48c69a0c",
   "metadata": {},
   "source": [
    "<a id=\"15\"></a>\n",
    "### 6.1 Prediction 1"
   ]
  },
  {
   "cell_type": "code",
   "execution_count": 32,
   "id": "5a6da00a-6a76-4b18-b9ff-f9ac77188c3d",
   "metadata": {},
   "outputs": [
    {
     "name": "stdout",
     "output_type": "stream",
     "text": [
      "875/875 [==============================] - 8s 9ms/step\n",
      "[9.68214766e-13 1.05087146e-11 1.00000000e+00 4.67994365e-10\n",
      " 4.47809379e-14 1.75176459e-14 5.70013004e-13 3.29423377e-10\n",
      " 1.08136666e-12 3.87559281e-14]\n",
      "2\n"
     ]
    }
   ],
   "source": [
    "# predicted values\n",
    "y_pred_enc = model.predict(test)\n",
    "\n",
    "# decoding predicted values\n",
    "y_pred = [np.argmax(i) for i in y_pred_enc]\n",
    "\n",
    "print(y_pred_enc[0])\n",
    "print(y_pred[0])"
   ]
  },
  {
   "cell_type": "code",
   "execution_count": 33,
   "id": "cc031ba6-cca0-472c-b7cb-93def198b8e3",
   "metadata": {},
   "outputs": [
    {
     "data": {
      "image/png": "[encoded data removed]",
      "text/plain": [
       "<Figure size 720x720 with 9 Axes>"
      ]
     },
     "metadata": {
      "needs_background": "light"
     },
     "output_type": "display_data"
    }
   ],
   "source": [
    "# predicted targets of each images\n",
    "# (labels above the images are predicted labels)\n",
    "fig, ax = plt.subplots(figsize=(10, 10))\n",
    "for ind, row in enumerate(test[:9]):\n",
    "    plt.subplot(3, 3, ind+1)\n",
    "    plt.title(y_pred[ind])\n",
    "    img = row.reshape(28, 28)\n",
    "    fig.suptitle('Predicted values', fontsize=20)\n",
    "    plt.axis('on')\n",
    "    plt.imshow(img, cmap='RdYlGn_r')"
   ]
  },
  {
   "cell_type": "markdown",
   "id": "4433467e-fc61-4215-96ae-b727e1155de1",
   "metadata": {},
   "source": [
    "<a id=\"16\"></a>\n",
    "### 6.2 Prediction 2"
   ]
  },
  {
   "cell_type": "code",
   "execution_count": 36,
   "id": "c5dc6d93-a2b3-4ea4-a66b-3da411489708",
   "metadata": {},
   "outputs": [
    {
     "name": "stdout",
     "output_type": "stream",
     "text": [
      "1/1 [==============================] - 0s 37ms/step\n"
     ]
    },
    {
     "data": {
      "image/png": "[encoded data removed]",
      "text/plain": [
       "<Figure size 864x720 with 8 Axes>"
      ]
     },
     "metadata": {
      "needs_background": "light"
     },
     "output_type": "display_data"
    }
   ],
   "source": [
    "# predictions on randomly selected test images\n",
    "\n",
    "num_test_images = test.shape[0]\n",
    "\n",
    "random_inx = np.random.choice(num_test_images, 4)\n",
    "random_test_images = test[random_inx, ...]\n",
    "random_test_labels = y[random_inx, ...]\n",
    "\n",
    "predictions = model.predict(random_test_images)\n",
    "\n",
    "fig, axes = plt.subplots(4, 2, figsize=(12, 10))\n",
    "fig.subplots_adjust(hspace=0.4, wspace=-0.2)\n",
    "\n",
    "for i, (prediction, image, label) in enumerate(zip(predictions, random_test_images, random_test_labels)):\n",
    "    axes[i, 0].imshow(np.squeeze(image),cmap='RdYlGn_r')\n",
    "    axes[i, 0].get_xaxis().set_visible(False)\n",
    "    axes[i, 0].get_yaxis().set_visible(False)\n",
    "    axes[i, 1].bar(np.arange(len(prediction)), prediction)\n",
    "    axes[i, 1].set_xticks(np.arange(len(prediction)))\n",
    "    axes[i, 1].set_title(f\"Model prediction: {np.argmax(prediction)}\")\n",
    "\n",
    "plt.show()"
   ]
  },
  {
   "cell_type": "code",
   "execution_count": null,
   "id": "60c9edd9-0219-4621-a400-247be1e95e43",
   "metadata": {},
   "outputs": [],
   "source": []
  },
  {
   "cell_type": "code",
   "execution_count": null,
   "id": "c66986d6-82b4-4069-830e-c1343f028767",
   "metadata": {},
   "outputs": [],
   "source": []
  },
  {
   "cell_type": "markdown",
   "id": "8a9bed9d-9099-4488-99d4-859e58c7ae90",
   "metadata": {},
   "source": [
    "<a id=\"17\"></a>\n",
    "## 7. Conclusion"
   ]
  },
  {
   "cell_type": "markdown",
   "id": "359648aa-9ca7-4cb2-af2d-2419e938340f",
   "metadata": {},
   "source": [
    "An 80% dataset was used to train both models, while 20% was used to test them. The backpropagation approach in the models uses the ReLU activation function. Additionally, softmax activation function for the output's probabilistic values. The categorical cross-entropy loss was used for the training process. The loss was reduced by using the ADAM optimizer for additional optimization."
   ]
  },
  {
   "cell_type": "code",
   "execution_count": null,
   "id": "02893cee-486a-4aa0-9be1-4ef678c71da4",
   "metadata": {},
   "outputs": [],
   "source": []
  }
 ],
 "metadata": {
  "kernelspec": {
   "display_name": "Python 3 (ipykernel)",
   "language": "python",
   "name": "python3"
  },
  "language_info": {
   "codemirror_mode": {
    "name": "ipython",
    "version": 3
   },
   "file_extension": ".py",
   "mimetype": "text/x-python",
   "name": "python",
   "nbconvert_exporter": "python",
   "pygments_lexer": "ipython3",
   "version": "3.9.12"
  }
 },
 "nbformat": 4,
 "nbformat_minor": 5
}
